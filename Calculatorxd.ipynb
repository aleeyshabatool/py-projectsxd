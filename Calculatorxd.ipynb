{
  "nbformat": 4,
  "nbformat_minor": 0,
  "metadata": {
    "colab": {
      "provenance": [],
      "authorship_tag": "ABX9TyO+A4Slo/3DGmBdS8JfNCji",
      "include_colab_link": true
    },
    "kernelspec": {
      "name": "python3",
      "display_name": "Python 3"
    },
    "language_info": {
      "name": "python"
    }
  },
  "cells": [
    {
      "cell_type": "markdown",
      "metadata": {
        "id": "view-in-github",
        "colab_type": "text"
      },
      "source": [
        "<a href=\"https://colab.research.google.com/github/aleeyshabatool/py-projectsxd/blob/main/Calculatorxd.ipynb\" target=\"_parent\"><img src=\"https://colab.research.google.com/assets/colab-badge.svg\" alt=\"Open In Colab\"/></a>"
      ]
    },
    {
      "cell_type": "code",
      "execution_count": null,
      "metadata": {
        "colab": {
          "base_uri": "https://localhost:8080/"
        },
        "id": "2pBdNIfWvFin",
        "outputId": "c44f0e92-1228-49cd-bf37-989eaa3fad87"
      },
      "outputs": [
        {
          "output_type": "stream",
          "name": "stdout",
          "text": [
            "Simple Calculator\n",
            "Operations: +, -, *, /\n",
            "Enter first number: 6\n",
            "Enter operation (+, -, *, /): /\n",
            "Enter second number: 2\n",
            "Result: 3.0\n"
          ]
        }
      ],
      "source": [
        "def calculator():\n",
        "    print(\"Simple Calculator\")\n",
        "    print(\"Operations: +, -, *, /\")\n",
        "\n",
        "    num1 = float(input(\"Enter first number: \"))\n",
        "    operator = input(\"Enter operation (+, -, *, /): \")\n",
        "    num2 = float(input(\"Enter second number: \"))\n",
        "\n",
        "    if operator == \"+\":\n",
        "        result = num1 + num2\n",
        "    elif operator == \"-\":\n",
        "        result = num1 - num2\n",
        "    elif operator == \"*\":\n",
        "        result = num1 * num2\n",
        "    elif operator == \"/\":\n",
        "        if num2 != 0:\n",
        "            result = num1 / num2\n",
        "        else:\n",
        "            result = \"Error! Division by zero.\"\n",
        "    else:\n",
        "        result = \"Invalid operation!\"\n",
        "\n",
        "    print(\"Result:\", result)\n",
        "\n",
        "calculator()\n"
      ]
    }
  ]
}