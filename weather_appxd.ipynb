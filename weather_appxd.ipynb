{
  "nbformat": 4,
  "nbformat_minor": 0,
  "metadata": {
    "colab": {
      "provenance": [],
      "authorship_tag": "ABX9TyMFx1WCiJ8tXCM3IIGj1egL",
      "include_colab_link": true
    },
    "kernelspec": {
      "name": "python3",
      "display_name": "Python 3"
    },
    "language_info": {
      "name": "python"
    }
  },
  "cells": [
    {
      "cell_type": "markdown",
      "metadata": {
        "id": "view-in-github",
        "colab_type": "text"
      },
      "source": [
        "<a href=\"https://colab.research.google.com/github/aleeyshabatool/py-projectsxd/blob/main/weather_appxd.ipynb\" target=\"_parent\"><img src=\"https://colab.research.google.com/assets/colab-badge.svg\" alt=\"Open In Colab\"/></a>"
      ]
    },
    {
      "cell_type": "code",
      "source": [
        "import requests\n",
        "\n",
        "# OpenWeatherMap API Key\n",
        "API_KEY = \"2d1602583157762ad89eb48928c60a9b\"\n",
        "BASE_URL = \"http://api.openweathermap.org/data/2.5/weather\"\n",
        "\n",
        "def get_weather(city):\n",
        "    # API URL\n",
        "    params = {\n",
        "        \"q\": city,\n",
        "        \"appid\": API_KEY,\n",
        "        \"units\": \"metric\",\n",
        "        \"lang\": \"en\"\n",
        "    }\n",
        "\n",
        "    response = requests.get(BASE_URL, params=params)\n",
        "\n",
        "    data = response.json()\n",
        "\n",
        "    if response.status_code == 200:\n",
        "        weather_desc = data[\"weather\"][0][\"description\"]\n",
        "        temp = data[\"main\"][\"temp\"]\n",
        "        humidity = data[\"main\"][\"humidity\"]\n",
        "        wind_speed = data[\"wind\"][\"speed\"]\n",
        "\n",
        "        print(f\"📍 City: {city}\")\n",
        "        print(f\"🌡 Temperature: {temp}°C\")\n",
        "        print(f\"💨 Wind Speed: {wind_speed} m/s\")\n",
        "        print(f\"🌫 Weather: {weather_desc.capitalize()}\")\n",
        "        print(f\"💧 Humidity: {humidity}%\")\n",
        "    else:\n",
        "        print(\"❌ Error: City not found!\")\n",
        "\n",
        "city_name = input(\"Enter city name: \")\n",
        "get_weather(city_name)"
      ],
      "metadata": {
        "colab": {
          "base_uri": "https://localhost:8080/"
        },
        "id": "VlCPHkgD2krv",
        "outputId": "8a5a6bb0-6681-4dbe-a05a-a89000508a19"
      },
      "execution_count": 3,
      "outputs": [
        {
          "output_type": "stream",
          "name": "stdout",
          "text": [
            "Enter city name: Karachi\n",
            "📍 City: Karachi\n",
            "🌡 Temperature: 20.9°C\n",
            "💨 Wind Speed: 2.57 m/s\n",
            "🌫 Weather: Haze\n",
            "💧 Humidity: 60%\n"
          ]
        }
      ]
    }
  ]
}